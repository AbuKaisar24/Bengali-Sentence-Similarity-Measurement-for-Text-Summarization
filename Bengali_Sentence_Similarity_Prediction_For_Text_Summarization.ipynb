{
  "nbformat": 4,
  "nbformat_minor": 0,
  "metadata": {
    "colab": {
      "name": "Bengali Sentence Similarity Prediction For Text Summarization.ipynb",
      "provenance": [],
      "include_colab_link": true
    },
    "kernelspec": {
      "name": "python3",
      "display_name": "Python 3"
    },
    "accelerator": "GPU"
  },
  "cells": [
    {
      "cell_type": "markdown",
      "metadata": {
        "id": "view-in-github",
        "colab_type": "text"
      },
      "source": [
        "<a href=\"https://colab.research.google.com/github/AbuKaisar24/Bengali-Sentence-Similarity-Measurement-for-Text-Summarization/blob/master/Bengali_Sentence_Similarity_Prediction_For_Text_Summarization.ipynb\" target=\"_parent\"><img src=\"https://colab.research.google.com/assets/colab-badge.svg\" alt=\"Open In Colab\"/></a>"
      ]
    },
    {
      "cell_type": "code",
      "metadata": {
        "id": "pTM7cXcBocen",
        "colab_type": "code",
        "outputId": "f26c8bb9-9d49-4188-a055-6dea9b8af714",
        "colab": {
          "base_uri": "https://localhost:8080/",
          "height": 124
        }
      },
      "source": [
        "from google.colab import drive\n",
        "drive.mount('/content/gdrive')"
      ],
      "execution_count": 0,
      "outputs": [
        {
          "output_type": "stream",
          "text": [
            "Go to this URL in a browser: https://accounts.google.com/o/oauth2/auth?client_id=947318989803-6bn6qk8qdgf4n4g3pfee6491hc0brc4i.apps.googleusercontent.com&redirect_uri=urn%3Aietf%3Awg%3Aoauth%3A2.0%3Aoob&scope=email%20https%3A%2F%2Fwww.googleapis.com%2Fauth%2Fdocs.test%20https%3A%2F%2Fwww.googleapis.com%2Fauth%2Fdrive%20https%3A%2F%2Fwww.googleapis.com%2Fauth%2Fdrive.photos.readonly%20https%3A%2F%2Fwww.googleapis.com%2Fauth%2Fpeopleapi.readonly&response_type=code\n",
            "\n",
            "Enter your authorization code:\n",
            "··········\n",
            "Mounted at /content/gdrive\n"
          ],
          "name": "stdout"
        }
      ]
    },
    {
      "cell_type": "code",
      "metadata": {
        "id": "QPq1H7x6b0u-",
        "colab_type": "code",
        "colab": {}
      },
      "source": [
        "import pandas as pd\n",
        "df = pd.read_excel(\"gdrive/My Drive/Colab Notebooks/newdata.xlsx\",encoding='utf-8')"
      ],
      "execution_count": 0,
      "outputs": []
    },
    {
      "cell_type": "code",
      "metadata": {
        "id": "Qyxe2Z8AcnjU",
        "colab_type": "code",
        "colab": {}
      },
      "source": [
        "df.head()\n",
        "df=df.drop(\"Post Type\",axis=1)"
      ],
      "execution_count": 0,
      "outputs": []
    },
    {
      "cell_type": "code",
      "metadata": {
        "id": "OUOVFGBQc8Ih",
        "colab_type": "code",
        "outputId": "8b153d81-49dc-46bb-f2da-2990f9c74bdb",
        "colab": {
          "base_uri": "https://localhost:8080/",
          "height": 69
        }
      },
      "source": [
        "df.isnull().sum()"
      ],
      "execution_count": 0,
      "outputs": [
        {
          "output_type": "execute_result",
          "data": {
            "text/plain": [
              "Text       0\n",
              "Summary    0\n",
              "dtype: int64"
            ]
          },
          "metadata": {
            "tags": []
          },
          "execution_count": 4
        }
      ]
    },
    {
      "cell_type": "code",
      "metadata": {
        "id": "gERSWKi9c_Mw",
        "colab_type": "code",
        "outputId": "c8d66d6d-d3f5-4a2c-b366-2ef9f12f1291",
        "colab": {
          "base_uri": "https://localhost:8080/",
          "height": 297
        }
      },
      "source": [
        "for i in range(15,20):\n",
        "    print(\"News:\",i+1)\n",
        "    print(\"Text:\",df.Text[i])\n",
        "    print(\"Summary:\",df.Summary[i])"
      ],
      "execution_count": 0,
      "outputs": [
        {
          "output_type": "stream",
          "text": [
            "News: 16\n",
            "Text: প্রয়োজন সবার আগে উচ্চ গতি সম্পন্ন, নিরবিচ্ছিন্ন ইন্টারনেট।প্রত্যেকটি ডিজিটাল সেন্টারে উচ্চ গতি সম্পন্ন, নিরবিচ্ছিন্ন ইন্টারনেট কানেকশনের মাধ্যমে এলাকা ভিত্তিক উদ্যোক্তাসহ আরো শত শত তরুন তরুণীর কর্মসংস্থা্র ব্যবস্থা হবে। ডিজিটাল সেন্টার উদ্যোক্তা সম্মেলনে প্রতিমন্ত্রী জুনাইদ আহমেদ পলক।\n",
            "Summary: শত শত তরুন তরুণীর কর্মসংস্থা্র ব্যবস্থা হবে।\n",
            "News: 17\n",
            "Text: আমি এটুকুই চাইব এই অবহেলিত জনগোষ্ঠী যেন আর অবহেলার শিকার না হয়। - প্রধানমন্ত্রী শেখ হাসিনা পর্যায়ক্রমে দেশের আটটি বিভাগীয় শহরে বৃহৎ পরিসরে পিতামাতা ও অভিভাবকহীন নিউরো-ডেভেলপমেন্টাল প্রতিবন্ধী মেয়েদের জন্য পরিচর্যা কেন্দ্র স্থাপন করা হবে। এসব কেন্দ্রে তাদের শিক্ষা, প্রশিক্ষণ, চিকিৎসা, খেলাধুলাসহ সব সুবিধা অন্তর্ভুক্ত থাকবে।\n",
            "Summary: প্রতিবন্ধী মেয়েদের জন্য পরিচর্যা কেন্দ্র স্থাপন করা হবে।\n",
            "News: 18\n",
            "Text: ১৯৭৫ সালের ৪ এপ্রিল দুই মার্কিন কম্পিউটার প্রকৌশলী বিল গেটস এবং পল অ্যালেনের উদ্যোগে প্রতিষ্ঠিত হয় মাইক্রোসফট। মূলত নিজেদের তৈরি কম্পিউটার প্রোগ্রাম বিক্রির জন্যই যৌথভাবে প্রতিষ্ঠান খুলে বসেন গেটস ও অ্যালেন।\n",
            "Summary: বিল গেটস এবং পল অ্যালেনের উদ্যোগে প্রতিষ্ঠিত হয় মাইক্রোসফট।\n",
            "News: 19\n",
            "Text: দেশে আইন আদালত থাকতে একজন মানুষকে এইভাবে মারার কারো অধিকার নাই,আজ দেশ থেকে মানবতা শব্দটি উঠে গেছে। চুরির অপরাধে এইভাবে না মেরে পুলিশের হাতে উঠিয়ে দেওয়া মানবতার কাজ। আইন হাতে তুলে নেয়া কারো অধিকার নাই । আসুন আমরা সবাই এই মাইয়ের দৃষ্টান্তমূলক শাস্তি চাই ।\n",
            "Summary: মাইয়ের দৃষ্টান্তমূলক শাস্তি চাই।\n",
            "News: 20\n",
            "Text: অস্ট্রেলিয়ায় চাকরি দেয়ার নামে বাংলাদেশ থেকে নিয়ে যাওয়া বেশ কিছু শ্রমিক আটকা পড়ে মানবেতর জীবন যাপন করছেন প্রশান্ত মহাসাগরীয় দ্বীপরাষ্ট্র ভানুয়াতুতে। সে দেশের ন্যায় বিচারের মাধ্যমে দেশে ফেরার অপেক্ষায় প্রহর গুনছেন বলে জানিয়েছে বার্তা সংস্থা রয়টার্স।\n",
            "Summary: ভানুয়াতুতে শ্রমিক আটকা পড়েছে।\n"
          ],
          "name": "stdout"
        }
      ]
    },
    {
      "cell_type": "code",
      "metadata": {
        "id": "1iU9cb5Khxqe",
        "colab_type": "code",
        "colab": {}
      },
      "source": [
        "contractions = { \n",
        "\"বি.দ্র \": \"বিশেষ দ্রষ্টব্য\",\n",
        "\"ড.\": \"ডক্টর\",\n",
        "\"ডা.\": \"ডাক্তার\",\n",
        "\"ইঞ্জি:\": \"ইঞ্জিনিয়ার\",\n",
        "\"রেজি:\": \"রেজিস্ট্রেশন\",\n",
        "\"মি.\": \"মিস্টার\",\n",
        "\"মু.\": \"মুহাম্মদ\",\n",
        "\"মো.\": \"মোহাম্মদ\",\n",
        "}"
      ],
      "execution_count": 0,
      "outputs": []
    },
    {
      "cell_type": "code",
      "metadata": {
        "id": "Ogk7MzbfdImx",
        "colab_type": "code",
        "colab": {}
      },
      "source": [
        "import re\n",
        "import string\n",
        "def clean_text(text,remove_stopwords = False):\n",
        "    if True:\n",
        "        text = text.split()\n",
        "        new_text = []\n",
        "        for word in text:\n",
        "            if word in contractions:\n",
        "                new_text.append(contractions[word])\n",
        "            else:\n",
        "                new_text.append(word)\n",
        "        text = \" \".join(new_text)\n",
        "    # Format words and remove unwanted characters\n",
        "    whitespace = re.compile(u\"[\\s\\u0020\\u00a0\\u1680\\u180e\\u202f\\u205f\\u3000\\u2000-\\u200a]+\", re.UNICODE)\n",
        "    bangla_digits = u\"[\\u09E6\\u09E7\\u09E8\\u09E9\\u09EA\\u09EB\\u09EC\\u09ED\\u09EE\\u09EF]+\"\n",
        "    english_chars = u\"[a-zA-Z0-9]\"\n",
        "    punc = u\"[(),$%^&*+={}\\[\\]:\\\"|\\'\\~`<>/,¦!?½£¶¼©⅐⅑⅒⅓⅔⅕⅖⅗⅘⅙⅚⅛⅜⅝⅞⅟↉¤¿º;-]+\"\n",
        "    bangla_fullstop = u\"\\u0964\"     #bangla fullstop(dari)\n",
        "    punctSeq   = u\"['\\\"“”‘’]+|[.?!,…]+|[:;]+\"\n",
        "    \n",
        "    text = re.sub(bangla_digits, \" \", text)\n",
        "    text = re.sub(punc, \" \", text)\n",
        "    text = re.sub(english_chars, \" \", text)\n",
        "    text = re.sub(bangla_fullstop, \" \", text)\n",
        "    text = re.sub(punctSeq, \" \", text)\n",
        "    text = whitespace.sub(\" \", text).strip()\n",
        "    \n",
        "    text = re.sub(r'https?:\\/\\/.*[\\r\\n]*', '', text, flags=re.MULTILINE)\n",
        "    text = re.sub(r'\\<a href', ' ', text)\n",
        "    text = re.sub(r'&amp;‘:‘ ’', '', text) \n",
        "    text = re.sub(r'[_\"\\-;%()|+&=*%.,!?:#$@\\[\\]/]। ,', ' ', text)\n",
        "    text = re.sub(r'<br />', ' ', text)\n",
        "    text = re.sub(r'\\'', ' ', text)\n",
        "    text = re.sub(r\"[\\@$#%~+-\\.\\'।\\\"]\",\" \",text)\n",
        "    text = re.sub(r\"(?m)^\\s+\", \"\", text)\n",
        "    text = re.sub(\"[()]\",\"\",text)\n",
        "    text = re.sub(\"[‘’]\",\"\",text)\n",
        "    text = re.sub(\"[!]\",\"\",text)\n",
        "    text = re.sub(\"[/]\",\"\",text)\n",
        "    text = re.sub(\"[:]\",\"\",text)\n",
        "    text= re.sub('\\ |\\?|\\.|\\!|\\/|\\;|\\:', ' ',text)\n",
        "    text= text.strip(\"/\")\n",
        "    \n",
        "    if remove_stopwords:\n",
        "        k = []\n",
        "        with open('gdrive/My Drive/Colab Notebooks/Banglastopword.txt', 'r',encoding=\"utf-8\") as f:\n",
        "            for word in f:\n",
        "                word = word.split()\n",
        "                k.append(word[0])\n",
        "            text = [t for t in text if t not in k]\n",
        "            text = \"\".join(text)\n",
        "            \n",
        "    return text"
      ],
      "execution_count": 0,
      "outputs": []
    },
    {
      "cell_type": "code",
      "metadata": {
        "id": "8UEAZCojdZrY",
        "colab_type": "code",
        "colab": {}
      },
      "source": [
        "def process_questions(text_list, texts, texts_list_name):\n",
        "  \n",
        "    for text in texts:\n",
        "        text_list.append(clean_text(text))\n",
        "        if len(text_list) % 10000 == 0:\n",
        "            progress = len(text_list)/len(df) * 100\n",
        "            print(\"{} is {}% complete.\".format(text_list_name, round(progress, 1)))"
      ],
      "execution_count": 0,
      "outputs": []
    },
    {
      "cell_type": "code",
      "metadata": {
        "id": "bBEzi3N3fdcU",
        "colab_type": "code",
        "outputId": "9f184a66-f202-4d90-cec4-738d7a4376fd",
        "colab": {
          "base_uri": "https://localhost:8080/",
          "height": 35
        }
      },
      "source": [
        "Text1 = []     \n",
        "process_questions(Text1, df.Text, \"Text\")\n",
        "\n",
        "Summary1 = []     \n",
        "process_questions(Summary1, df.Summary, \"Summary\")\n",
        "\n",
        "print()"
      ],
      "execution_count": 0,
      "outputs": [
        {
          "output_type": "stream",
          "text": [
            "\n"
          ],
          "name": "stdout"
        }
      ]
    },
    {
      "cell_type": "code",
      "metadata": {
        "id": "44Vzkv82gOm9",
        "colab_type": "code",
        "outputId": "5ac7180a-64f4-4a4c-e99a-0ea8fbe31624",
        "colab": {
          "base_uri": "https://localhost:8080/",
          "height": 297
        }
      },
      "source": [
        "for i in range(5):\n",
        "    print(Text1[i])\n",
        "    print(Summary1[i])\n",
        "    print()"
      ],
      "execution_count": 0,
      "outputs": [
        {
          "output_type": "stream",
          "text": [
            "আগে যখন আমি ফুটবল বুঝতাম না ও দেখতাম না তখন ভাবতাম মেসিই সেরা তারপর যখন আমি ফুটবল বোঝা ও দেখা শুরু করলাম তখন উপলব্ধি করলাম যে আগে আমি ভুল ছিলাম না\n",
            "মেসি সবার সেরা\n",
            "\n",
            "অগ্নিকান্ডের সময় আমাদের করণীয় তো আমরা সবাই জানি কিন্তু আমরা কি জানি যেকোনো অগ্নিকান্ডের সময় দুর্ঘটনাস্থলে উপস্থিত থাকা সাধারণ জনগনের করণীয় কি চলুন জেনে নেই দুর্ঘটনাস্থলে উপস্থিত থাকা সাধারণ জনগনের করণীয়গুলো প্রয়োজনীয় কিছু পদক্ষেপ গ্রহন করে মূল্যবান জীবন বাঁচাই\n",
            "অগ্নিকান্ডের সময় উপস্থিত জনগণের করণীয়\n",
            "\n",
            "ড্যাফোডিলের মেইন ক্যাম্পাসটারে ধানমন্ডি থেইকা গাবতলী ট্রান্সফারের জন্য একটা সিরিয়াস আন্দোলন দরকার সেমিস্টার যাবত এই জ্যামের জন্য ঃ টার একটা ক্লাস ও করতে পারি না মজার রোড থেইক্কা কল্যাণপুর আসতেই লাগলো ঘণ্টা এতো সুন্দর জীবন দিয়া কি করবো যদি এক্সাম মিস হয়\n",
            "জ্যামের জন্য এক্সাম মিস\n",
            "\n",
            "পাইপ বয় নাঈমকে খালেদা জিয়ার বিরুদ্ধে কথাটি শিখিয়ে দেয়া হয়েছে দাবী তার মায়ের বললেন ডলার পুরস্কার ঘোষনাকারী সামী তবে নাঈম তার ভুল বুঝতে পারায় শেষ পর্যন্ত টাকা দেয়া হচ্ছে তাকে\n",
            "নাঈমকে টাকা দেয়া হচ্ছে\n",
            "\n",
            "সাংবাদিক উজ্জ্বল সে একজন প্রতারক সামন্য অর্থের প্রয়োজনে সে মানুষের বিরুদ্বে বিমাতা স্বরুপ মিথ্যা ভুল সংবাদ প্রচার করে মানুষের সম্মান হানি করে এই ধরনের সাংবাদিকদের কারনে সমাজ আজ হুমকি মুখে মানুষকে বিপদগ্রস্ত করার জন্য সে সর্বদা লিপ্ত থাকে\n",
            "উজ্জ্বল অর্থের প্রয়োজনে মিথ্যা সংবাদ প্রচার করে\n",
            "\n"
          ],
          "name": "stdout"
        }
      ]
    },
    {
      "cell_type": "code",
      "metadata": {
        "id": "4biIaSB9rsb7",
        "colab_type": "code",
        "colab": {}
      },
      "source": [
        "import gensim\n",
        "from gensim.models import KeyedVectors\n",
        "from gensim.utils import simple_preprocess"
      ],
      "execution_count": 0,
      "outputs": []
    },
    {
      "cell_type": "code",
      "metadata": {
        "id": "wHgYD4Mtr336",
        "colab_type": "code",
        "outputId": "8e9a27a4-1534-4930-f1e4-0627604537c0",
        "colab": {
          "base_uri": "https://localhost:8080/",
          "height": 124
        }
      },
      "source": [
        "model = gensim.models.KeyedVectors.load_word2vec_format('gdrive/My Drive/Colab Notebooks/bn_w2v_model.text')\n",
        "#two sample sentences \n",
        "s1 = 'ঘূর্ণিঝড় ফণী আয়তনে বাংলাদেশের চেয়ে বড়'#human Summary\n",
        "s2 = 'ঘূর্ণিঝড় ফণী বাংলাদেশের থেকে বড়'#Response Summary\n",
        "\n",
        "\n",
        "#calculate distance between two sentences using WMD(Word Mover’s Distance)algorithm\n",
        "distance = model.wmdistance(s1, s2)\n",
        "\n",
        "print ('distance = %.3f' % distance)"
      ],
      "execution_count": 0,
      "outputs": [
        {
          "output_type": "stream",
          "text": [
            "/usr/local/lib/python3.6/dist-packages/smart_open/smart_open_lib.py:398: UserWarning:\n",
            "\n",
            "This function is deprecated, use smart_open.open instead. See the migration notes for details: https://github.com/RaRe-Technologies/smart_open/blob/master/README.rst#migrating-to-the-new-open-function\n",
            "\n"
          ],
          "name": "stderr"
        },
        {
          "output_type": "stream",
          "text": [
            "distance = 0.987\n"
          ],
          "name": "stdout"
        }
      ]
    },
    {
      "cell_type": "code",
      "metadata": {
        "id": "6-N5FfhADNyO",
        "colab_type": "code",
        "outputId": "adace884-df46-4400-baad-d813630923af",
        "colab": {
          "base_uri": "https://localhost:8080/",
          "height": 52
        }
      },
      "source": [
        "s1 = s1.split()\n",
        "s2 = s2.split()\n",
        "\n",
        "print(s1,s2)\n",
        "#calculate distance between two sentences using WMD(Word Mover’s Distance)algorithm\n",
        "distance = model.wmdistance(s1, s2)\n",
        "\n",
        "print ('distance = %.3f' % distance)"
      ],
      "execution_count": 0,
      "outputs": [
        {
          "output_type": "stream",
          "text": [
            "['ঘূর্ণিঝড়', 'ফণী', 'আয়তনে', 'বাংলাদেশের', 'চেয়ে', 'বড়'] ['ঘূর্ণিঝড়', 'ফণী', 'বাংলাদেশের', 'থেকে', 'বড়']\n",
            "distance = 1.229\n"
          ],
          "name": "stdout"
        }
      ]
    },
    {
      "cell_type": "code",
      "metadata": {
        "id": "LvyesneEQqSv",
        "colab_type": "code",
        "outputId": "0816ae6c-d378-4a80-eb1b-66293bafab13",
        "colab": {
          "base_uri": "https://localhost:8080/",
          "height": 376
        }
      },
      "source": [
        "\n",
        "from gensim.models import Word2Vec\n",
        "from sklearn.decomposition import PCA\n",
        "from matplotlib import pyplot\n",
        "import matplotlib.font_manager as fm\n",
        "\n",
        "sentences = [s1,s2]\n",
        "\n",
        "model2 = Word2Vec(sentences, min_count=1)\n",
        "\n",
        "X = model2[model2.wv.vocab]\n",
        "pca = PCA(n_components=2)\n",
        "result = pca.fit_transform(X)\n",
        "\n",
        "pyplot.scatter(result[:, 0], result[:, 1])\n",
        "words = list(model2.wv.vocab)\n",
        "prop = fm.FontProperties(fname='gdrive/My Drive/Colab Notebooks/kalpurush.ttf')\n",
        "for i, word in enumerate(words):\n",
        "\tpyplot.annotate(word, xy=(result[i, 0], result[i, 1]),fontproperties=prop)\n",
        "pyplot.show()"
      ],
      "execution_count": 0,
      "outputs": [
        {
          "output_type": "stream",
          "text": [
            "W0615 19:20:55.809238 139631731283840 base_any2vec.py:1386] under 10 jobs per worker: consider setting a smaller `batch_words' for smoother alpha decay\n",
            "/usr/local/lib/python3.6/dist-packages/ipykernel_launcher.py:11: DeprecationWarning:\n",
            "\n",
            "Call to deprecated `__getitem__` (Method will be removed in 4.0.0, use self.wv.__getitem__() instead).\n",
            "\n"
          ],
          "name": "stderr"
        },
        {
          "output_type": "display_data",
          "data": {
            "image/png": "[encoded data removed]",
            "text/plain": [
              "<Figure size 432x288 with 1 Axes>"
            ]
          },
          "metadata": {
            "tags": []
          }
        }
      ]
    },
    {
      "cell_type": "code",
      "metadata": {
        "id": "qJjSAGc_tTO9",
        "colab_type": "code",
        "outputId": "fce18477-07f6-43df-9da2-0de8b7743f72",
        "colab": {
          "base_uri": "https://localhost:8080/",
          "height": 35
        }
      },
      "source": [
        "s3='জীবনটাকে জটিল করার কি দরকার একটা সরল সমীকরণ মাত্র'\n",
        "s4='জীবনটাকে জটিল করার কি দরকার'\n",
        "distance = model.wmdistance(s3, s4)\n",
        "\n",
        "print ('distance = %.3f' % distance)"
      ],
      "execution_count": 0,
      "outputs": [
        {
          "output_type": "stream",
          "text": [
            "distance = 1.117\n"
          ],
          "name": "stdout"
        }
      ]
    },
    {
      "cell_type": "code",
      "metadata": {
        "id": "gOB9fHsujWnM",
        "colab_type": "code",
        "outputId": "e7aa2899-cc81-450f-ec89-d895f5d2e67c",
        "colab": {
          "base_uri": "https://localhost:8080/",
          "height": 376
        }
      },
      "source": [
        "\n",
        "from gensim.models import Word2Vec\n",
        "from sklearn.decomposition import PCA\n",
        "from matplotlib import pyplot\n",
        "import matplotlib.font_manager as fm\n",
        "\n",
        "sentences = [s3.split(),s4.split()]\n",
        "\n",
        "model2 = Word2Vec(sentences, min_count=1)\n",
        "\n",
        "X = model2[model2.wv.vocab]\n",
        "pca = PCA(n_components=2)\n",
        "result = pca.fit_transform(X)\n",
        "\n",
        "pyplot.scatter(result[:, 0], result[:, 1])\n",
        "words = list(model2.wv.vocab)\n",
        "prop = fm.FontProperties(fname='gdrive/My Drive/Colab Notebooks/kalpurush.ttf')\n",
        "for i, word in enumerate(words):\n",
        "\tpyplot.annotate(word, xy=(result[i, 0], result[i, 1]),fontproperties=prop)\n",
        "pyplot.show()"
      ],
      "execution_count": 0,
      "outputs": [
        {
          "output_type": "stream",
          "text": [
            "W0615 19:45:35.523272 139631731283840 base_any2vec.py:1386] under 10 jobs per worker: consider setting a smaller `batch_words' for smoother alpha decay\n",
            "/usr/local/lib/python3.6/dist-packages/ipykernel_launcher.py:11: DeprecationWarning:\n",
            "\n",
            "Call to deprecated `__getitem__` (Method will be removed in 4.0.0, use self.wv.__getitem__() instead).\n",
            "\n"
          ],
          "name": "stderr"
        },
        {
          "output_type": "display_data",
          "data": {
            "image/png": "[encoded data removed]",
            "text/plain": [
              "<Figure size 432x288 with 1 Axes>"
            ]
          },
          "metadata": {
            "tags": []
          }
        }
      ]
    },
    {
      "cell_type": "code",
      "metadata": {
        "id": "h8IaKTnLsll3",
        "colab_type": "code",
        "outputId": "bf82cee6-1f0c-4910-da45-75cab378e87d",
        "colab": {
          "base_uri": "https://localhost:8080/",
          "height": 35
        }
      },
      "source": [
        "s5='আন্দোলন করার জন্য স্কুল কলেজ বন্ধ করার দরকার হয় না'\n",
        "s6='আন্দোলন করার জন্য স্কুল কলেজ বন্ধ'\n",
        "distance = model.wmdistance(s5, s6)\n",
        "\n",
        "print ('distance = %.3f' % distance)\n"
      ],
      "execution_count": 0,
      "outputs": [
        {
          "output_type": "stream",
          "text": [
            "distance = 1.165\n"
          ],
          "name": "stdout"
        }
      ]
    },
    {
      "cell_type": "code",
      "metadata": {
        "id": "0r03XIABoxrn",
        "colab_type": "code",
        "outputId": "67aa26c4-e94e-4d07-a9df-9835c8c3faad",
        "colab": {
          "base_uri": "https://localhost:8080/",
          "height": 35
        }
      },
      "source": [
        "distance = model.wmdistance(s2, s4.split())\n",
        "print(distance)"
      ],
      "execution_count": 0,
      "outputs": [
        {
          "output_type": "stream",
          "text": [
            "3.753669551625824\n"
          ],
          "name": "stdout"
        }
      ]
    },
    {
      "cell_type": "code",
      "metadata": {
        "id": "QYLLwoKd0IYA",
        "colab_type": "code",
        "outputId": "8efb7288-3516-4d9c-e1a9-bd5d2394e47a",
        "colab": {
          "base_uri": "https://localhost:8080/",
          "height": 35
        }
      },
      "source": [
        "distance = model.wmdistance(s1, s4.split())\n",
        "print(distance)"
      ],
      "execution_count": 0,
      "outputs": [
        {
          "output_type": "stream",
          "text": [
            "3.8827486448475432\n"
          ],
          "name": "stdout"
        }
      ]
    },
    {
      "cell_type": "code",
      "metadata": {
        "id": "4ChIGS2pALbk",
        "colab_type": "code",
        "outputId": "24e1c272-8c1b-4444-9d14-c2efa9142de4",
        "colab": {
          "base_uri": "https://localhost:8080/",
          "height": 87
        }
      },
      "source": [
        "from gensim.similarities import WmdSimilarity\n",
        "num_best = 4\n",
        "st=WmdSimilarity(Summary1,model,num_best=4)\n",
        "\n",
        "s='ঘূর্ণিঝড় ফণী আয়তনে বাংলাদেশের চেয়ে বড়'\n",
        "q= clean_text(s)\n",
        "st[q]"
      ],
      "execution_count": 0,
      "outputs": [
        {
          "output_type": "execute_result",
          "data": {
            "text/plain": [
              "[(81, 1.0),\n",
              " (37, 0.7159740421062721),\n",
              " (69, 0.6916249186691728),\n",
              " (30, 0.6880664606976791)]"
            ]
          },
          "metadata": {
            "tags": []
          },
          "execution_count": 66
        }
      ]
    },
    {
      "cell_type": "code",
      "metadata": {
        "id": "ge4x5l54By5s",
        "colab_type": "code",
        "outputId": "6767b824-5325-49da-a1f2-22b8d79ca009",
        "colab": {
          "base_uri": "https://localhost:8080/",
          "height": 87
        }
      },
      "source": [
        "q2='ঘূর্ণিঝড় ফণী বাংলাদেশের থেকে বড়'\n",
        "st[q2]"
      ],
      "execution_count": 0,
      "outputs": [
        {
          "output_type": "execute_result",
          "data": {
            "text/plain": [
              "[(81, 0.8305251937100089),\n",
              " (69, 0.70057203708213),\n",
              " (29, 0.6862317867670649),\n",
              " (37, 0.6852327915979789)]"
            ]
          },
          "metadata": {
            "tags": []
          },
          "execution_count": 68
        }
      ]
    },
    {
      "cell_type": "code",
      "metadata": {
        "id": "F8FL4ToHCjxN",
        "colab_type": "code",
        "outputId": "f729cfc5-f41d-4314-f8f9-9c571435b509",
        "colab": {
          "base_uri": "https://localhost:8080/",
          "height": 191
        }
      },
      "source": [
        "from gensim.similarities import WmdSimilarity\n",
        "st=WmdSimilarity(Text1,model,num_best=10)\n",
        "q3='জীবনটাকে জটিল করার কি দরকার একটা সরল সমীকরণ মাত্র'\n",
        "st[q3]"
      ],
      "execution_count": 0,
      "outputs": [
        {
          "output_type": "execute_result",
          "data": {
            "text/plain": [
              "[(2, 0.7428375466682774),\n",
              " (84, 0.7185414595645728),\n",
              " (13, 0.7116031590316056),\n",
              " (22, 0.7071623588609792),\n",
              " (55, 0.7065793661766648),\n",
              " (14, 0.7061906145510931),\n",
              " (80, 0.704782848952235),\n",
              " (4, 0.704622765555712),\n",
              " (8, 0.7044556545429723),\n",
              " (37, 0.7043061658139269)]"
            ]
          },
          "metadata": {
            "tags": []
          },
          "execution_count": 69
        }
      ]
    },
    {
      "cell_type": "code",
      "metadata": {
        "id": "7Rsk3_E5wacl",
        "colab_type": "code",
        "outputId": "076b8468-d243-4bf0-83ad-aac989d6fdcf",
        "colab": {
          "base_uri": "https://localhost:8080/",
          "height": 87
        }
      },
      "source": [
        "import numpy as np\n",
        "from scipy import spatial\n",
        "\n",
        "index2word_set = set(model.wv.index2word)\n",
        "\n",
        "def avg_feature_vector(sentence, model, num_features, index2word_set):\n",
        "    words = sentence.split()\n",
        "    feature_vec = np.zeros((num_features, ), dtype='float32')\n",
        "    n_words = 0\n",
        "    for word in words:\n",
        "        if word in index2word_set:\n",
        "            n_words += 1\n",
        "            feature_vec = np.add(feature_vec, model[word])\n",
        "    if (n_words > 0):\n",
        "        feature_vec = np.divide(feature_vec, n_words)\n",
        "    return feature_vec\n"
      ],
      "execution_count": 0,
      "outputs": [
        {
          "output_type": "stream",
          "text": [
            "/usr/local/lib/python3.6/dist-packages/ipykernel_launcher.py:4: DeprecationWarning:\n",
            "\n",
            "Call to deprecated `wv` (Attribute will be removed in 4.0.0, use self instead).\n",
            "\n"
          ],
          "name": "stderr"
        }
      ]
    },
    {
      "cell_type": "code",
      "metadata": {
        "id": "lA87q8oFw-qG",
        "colab_type": "code",
        "outputId": "218e0a7e-8b07-40e0-aba7-aa596c02dc00",
        "colab": {
          "base_uri": "https://localhost:8080/",
          "height": 35
        }
      },
      "source": [
        "\n",
        "s1 = 'ঘূর্ণিঝড় ফণী আয়তনে বাংলাদেশের চেয়ে বড়'#human Summary\n",
        "s2 = 'ঘূর্ণিঝড় ফণী বাংলাদেশের থেকে বড়'#Response Summary\n",
        "s1_afv = avg_feature_vector(s1, model=model, num_features=300, index2word_set=index2word_set)\n",
        "s2_afv = avg_feature_vector(s2, model=model, num_features=300, index2word_set=index2word_set)\n",
        "sim = 1 - spatial.distance.cosine(s1_afv, s2_afv)\n",
        "print(sim)"
      ],
      "execution_count": 0,
      "outputs": [
        {
          "output_type": "stream",
          "text": [
            "0.8988070487976074\n"
          ],
          "name": "stdout"
        }
      ]
    },
    {
      "cell_type": "code",
      "metadata": {
        "id": "2qUcTL-pxKmh",
        "colab_type": "code",
        "outputId": "551ee44f-7a92-4b69-9fe2-24b71cb109e5",
        "colab": {
          "base_uri": "https://localhost:8080/",
          "height": 35
        }
      },
      "source": [
        "zs1_afv = avg_feature_vector(s3, model=model, num_features=300, index2word_set=index2word_set)\n",
        "s2_afv = avg_feature_vector(s4, model=model, num_features=300, index2word_set=index2word_set)\n",
        "sim = 1 - spatial.distance.cosine(s1_afv, s2_afv)\n",
        "print(sim)"
      ],
      "execution_count": 0,
      "outputs": [
        {
          "output_type": "stream",
          "text": [
            "0.5009527206420898\n"
          ],
          "name": "stdout"
        }
      ]
    },
    {
      "cell_type": "code",
      "metadata": {
        "id": "TC3Ld2vXxSSB",
        "colab_type": "code",
        "outputId": "2b611126-6088-4909-e2e2-e5af1b3c8818",
        "colab": {
          "base_uri": "https://localhost:8080/",
          "height": 35
        }
      },
      "source": [
        "s1_afv = avg_feature_vector(s5, model=model, num_features=300, index2word_set=index2word_set)\n",
        "s2_afv = avg_feature_vector(s6, model=model, num_features=300, index2word_set=index2word_set)\n",
        "sim = 1 - spatial.distance.cosine(s1_afv, s2_afv)\n",
        "print(sim)"
      ],
      "execution_count": 0,
      "outputs": [
        {
          "output_type": "stream",
          "text": [
            "0.9368993043899536\n"
          ],
          "name": "stdout"
        }
      ]
    },
    {
      "cell_type": "code",
      "metadata": {
        "id": "2eSllH9yxWVw",
        "colab_type": "code",
        "outputId": "457c216f-f24f-48ef-fdba-ea7c31f36bd1",
        "colab": {
          "base_uri": "https://localhost:8080/",
          "height": 35
        }
      },
      "source": [
        "import tensorflow as tf\n",
        "import tensorflow_hub as hub\n",
        "import numpy as np\n",
        "\n",
        "module_url = \"https://tfhub.dev/google/universal-sentence-encoder-large/3\" \n",
        "embed = hub.Module(module_url)\n",
        "sentences = [s1,s2]\n",
        "\n",
        "similarity_input_placeholder = tf.placeholder(tf.string, shape=(None))\n",
        "similarity_sentences_encodings = embed(similarity_input_placeholder)\n",
        "\n",
        "with tf.Session() as session:\n",
        "  session.run(tf.global_variables_initializer())\n",
        "  session.run(tf.tables_initializer())\n",
        "  sentences_embeddings = session.run(similarity_sentences_encodings, feed_dict={similarity_input_placeholder: sentences})\n",
        "  similarity = np.inner(sentences_embeddings[0], sentences_embeddings[1])\n",
        "  print(\"Similarity is %s\" % similarity)\n",
        " "
      ],
      "execution_count": 0,
      "outputs": [
        {
          "output_type": "stream",
          "text": [
            "Similarity is 0.99531066\n"
          ],
          "name": "stdout"
        }
      ]
    },
    {
      "cell_type": "code",
      "metadata": {
        "id": "uAm2avgJ4ri2",
        "colab_type": "code",
        "colab": {}
      },
      "source": [
        "from sklearn.feature_extraction.text import CountVectorizer\n",
        "from sklearn.metrics.pairwise import euclidean_distances"
      ],
      "execution_count": 0,
      "outputs": []
    },
    {
      "cell_type": "code",
      "metadata": {
        "id": "6WCv7YyXBJR8",
        "colab_type": "code",
        "outputId": "3e786844-4d08-4b49-8ac9-28e405ad3eba",
        "colab": {
          "base_uri": "https://localhost:8080/",
          "height": 69
        }
      },
      "source": [
        "s1 = 'ঘূর্ণিঝড় ফণী আয়তনে বাংলাদেশের চেয়ে বড়'#human Summary\n",
        "s2 = 'ঘূর্ণিঝড় ফণী বাংলাদেশের থেকে বড়'#Response Summary\n",
        "\n",
        "corpus = [s1,s2]\n",
        "\n",
        "vectorizer = CountVectorizer()\n",
        "features = vectorizer.fit_transform(corpus).todense() \n",
        "print( vectorizer.vocabulary_ )\n",
        "\n",
        "for f in features:\n",
        "    print( euclidean_distances(features[0], f) )"
      ],
      "execution_count": 0,
      "outputs": [
        {
          "output_type": "stream",
          "text": [
            "{'ঝড়': 1, 'ফণ': 2, 'আয়তন': 0, 'বড়': 3}\n",
            "[[0.]]\n",
            "[[1.]]\n"
          ],
          "name": "stdout"
        }
      ]
    },
    {
      "cell_type": "code",
      "metadata": {
        "id": "DpcjbiSLBUVd",
        "colab_type": "code",
        "outputId": "0f0b925a-e434-4535-d694-28fe90c2a220",
        "colab": {
          "base_uri": "https://localhost:8080/",
          "height": 35
        }
      },
      "source": [
        "def DistJaccard(str1, str2):\n",
        "    str1 = set(str1.split())\n",
        "    str2 = set(str2.split())\n",
        "    return float(len(str1 & str2)) / len(str1 | str2)\n",
        "DistJaccard(s1,s2)"
      ],
      "execution_count": 0,
      "outputs": [
        {
          "output_type": "execute_result",
          "data": {
            "text/plain": [
              "0.5714285714285714"
            ]
          },
          "metadata": {
            "tags": []
          },
          "execution_count": 77
        }
      ]
    },
    {
      "cell_type": "code",
      "metadata": {
        "id": "eQpk5WmRDUOT",
        "colab_type": "code",
        "outputId": "c1116fe0-5b53-49b0-bfb1-7ccf8a9a38bc",
        "colab": {
          "base_uri": "https://localhost:8080/",
          "height": 35
        }
      },
      "source": [
        "def DistJaccard(str1, str2):\n",
        "    str1 = set(str1.split())\n",
        "    str2 = set(str2.split())\n",
        "    return float(len(str1 & str2)) / len(str1 | str2)\n",
        "DistJaccard(s3,s4)"
      ],
      "execution_count": 0,
      "outputs": [
        {
          "output_type": "execute_result",
          "data": {
            "text/plain": [
              "0.5555555555555556"
            ]
          },
          "metadata": {
            "tags": []
          },
          "execution_count": 78
        }
      ]
    },
    {
      "cell_type": "code",
      "metadata": {
        "id": "ZFMFqA_7Dcea",
        "colab_type": "code",
        "outputId": "0feb472c-eeb6-4902-8910-0163cbbf0f1f",
        "colab": {
          "base_uri": "https://localhost:8080/",
          "height": 35
        }
      },
      "source": [
        "def DistJaccard(str1, str2):\n",
        "    str1 = set(str1)\n",
        "    str2 = set(str2)\n",
        "    return float(len(str1 & str2)) / len(str1 | str2)\n",
        "DistJaccard(s1,s2)"
      ],
      "execution_count": 0,
      "outputs": [
        {
          "output_type": "execute_result",
          "data": {
            "text/plain": [
              "0.72"
            ]
          },
          "metadata": {
            "tags": []
          },
          "execution_count": 79
        }
      ]
    },
    {
      "cell_type": "code",
      "metadata": {
        "id": "qD4BVr2CEEke",
        "colab_type": "code",
        "colab": {}
      },
      "source": [
        "from sklearn.feature_extraction.text import TfidfVectorizer"
      ],
      "execution_count": 0,
      "outputs": []
    },
    {
      "cell_type": "code",
      "metadata": {
        "id": "xcp5XkzHG7cc",
        "colab_type": "code",
        "colab": {}
      },
      "source": [
        "documents = [s1,s2]\n",
        "tfidf = TfidfVectorizer().fit_transform(documents)\n",
        "pairwise_similarity = tfidf * tfidf.T"
      ],
      "execution_count": 0,
      "outputs": []
    },
    {
      "cell_type": "code",
      "metadata": {
        "id": "RXZcHbXhHOhA",
        "colab_type": "code",
        "outputId": "ddb08622-94c7-4170-d250-d86ef89c4495",
        "colab": {
          "base_uri": "https://localhost:8080/",
          "height": 87
        }
      },
      "source": [
        "print(pairwise_similarity)"
      ],
      "execution_count": 0,
      "outputs": [
        {
          "output_type": "stream",
          "text": [
            "  (0, 1)\t0.7765145304745156\n",
            "  (0, 0)\t1.0\n",
            "  (1, 1)\t1.0000000000000002\n",
            "  (1, 0)\t0.7765145304745156\n"
          ],
          "name": "stdout"
        }
      ]
    },
    {
      "cell_type": "code",
      "metadata": {
        "id": "xwLKXjtcUz_C",
        "colab_type": "code",
        "outputId": "4f69c8e2-d11d-4455-c1d7-68675c0fd238",
        "colab": {
          "base_uri": "https://localhost:8080/",
          "height": 35
        }
      },
      "source": [
        "from sklearn.feature_extraction.text import TfidfVectorizer\n",
        "from sklearn.cluster import KMeans\n",
        "from sklearn.metrics import adjusted_rand_score\n",
        "import numpy\n",
        "\n",
        "texts = [s1,s2]\n",
        "\n",
        "# vectorization of the texts\n",
        "vectorizer = TfidfVectorizer()\n",
        "X = vectorizer.fit_transform(texts)\n",
        "# used words (axis in our multi-dimensional space)\n",
        "words = vectorizer.get_feature_names()\n",
        "print(\"words\", words)\n"
      ],
      "execution_count": 0,
      "outputs": [
        {
          "output_type": "stream",
          "text": [
            "words ['আয়তন', 'ঝড়', 'ফণ', 'বড়']\n"
          ],
          "name": "stdout"
        }
      ]
    },
    {
      "cell_type": "code",
      "metadata": {
        "id": "vLzhsQHzV6hC",
        "colab_type": "code",
        "colab": {}
      },
      "source": [
        "\n",
        "import tensorflow as tf\n",
        "import tensorflow_hub as hub\n",
        "import numpy as np"
      ],
      "execution_count": 0,
      "outputs": []
    },
    {
      "cell_type": "code",
      "metadata": {
        "id": "G4AQ8W67rc8g",
        "colab_type": "code",
        "outputId": "b93ce2e5-2b04-4091-a9e2-66b1dbb2b345",
        "colab": {
          "base_uri": "https://localhost:8080/",
          "height": 156
        }
      },
      "source": [
        "module_url = \"https://tfhub.dev/google/universal-sentence-encoder-large/3\" \n",
        "embed = hub.Module(module_url)\n",
        "# Compute a representation for each message, showing various lengths supported.\n",
        "s1 = u'ঘূর্ণিঝড় ফণী আয়তনে বাংলাদেশের চেয়ে বড়'#human Summary\n",
        "s2 = u'ঘূর্ণিঝড় ফণী বাংলাদেশের থেকে বড়'#Response Summary\n",
        "messages = [s1,s2]\n",
        "\n",
        "# Reduce logging output.\n",
        "tf.logging.set_verbosity(tf.logging.ERROR)\n",
        "\n",
        "with tf.Session() as session:\n",
        "    session.run([tf.global_variables_initializer(), tf.tables_initializer()])\n",
        "    message_embeddings = session.run(embed(messages))\n",
        "\n",
        "    for i, message_embedding in enumerate(np.array(message_embeddings).tolist()):\n",
        "        print(\"Message: {}\".format(messages[i]))\n",
        "        print(\"Embedding size: {}\".format(len(message_embedding)))\n",
        "        message_embedding_snippet = \", \".join((str(x) for x in message_embedding[:3]))\n",
        "        print(\"Embedding: [{}, ...]\\n\".format(message_embedding_snippet))"
      ],
      "execution_count": 0,
      "outputs": [
        {
          "output_type": "stream",
          "text": [
            "Message: ঘূর্ণিঝড় ফণী আয়তনে বাংলাদেশের চেয়ে বড়\n",
            "Embedding size: 512\n",
            "Embedding: [0.028247028589248657, -0.024279547855257988, 0.01867842674255371, ...]\n",
            "\n",
            "Message: ঘূর্ণিঝড় ফণী বাংলাদেশের থেকে বড়\n",
            "Embedding size: 512\n",
            "Embedding: [0.03131101280450821, -0.01754775084555149, 0.010783298872411251, ...]\n",
            "\n"
          ],
          "name": "stdout"
        }
      ]
    },
    {
      "cell_type": "code",
      "metadata": {
        "id": "cC-0hR82swRx",
        "colab_type": "code",
        "colab": {}
      },
      "source": [
        "import tensorflow as tf\n",
        "import tensorflow_hub as hub\n",
        "def embed_useT(module):\n",
        "    with tf.Graph().as_default():\n",
        "        sentences = tf.placeholder(tf.string)\n",
        "        embed = hub.Module(module)\n",
        "        embeddings = embed(sentences)\n",
        "        session = tf.train.MonitoredSession()\n",
        "    return lambda x: session.run(embeddings, {sentences: x})\n",
        "\n",
        "embed_fn = embed_useT(module_url)"
      ],
      "execution_count": 0,
      "outputs": []
    },
    {
      "cell_type": "code",
      "metadata": {
        "id": "0C8K_CiYr1pk",
        "colab_type": "code",
        "outputId": "3ddbebd3-e73c-4968-aad5-e259c6006a92",
        "colab": {
          "base_uri": "https://localhost:8080/",
          "height": 553
        }
      },
      "source": [
        "import matplotlib.pyplot as plt\n",
        "import seaborn as sns\n",
        "%matplotlib inline\n",
        "import matplotlib.font_manager as fm\n",
        "\n",
        "encoding_matrix = embed_fn(messages)\n",
        "prop = fm.FontProperties(fname='gdrive/My Drive/Colab Notebooks/kalpurush.ttf')\n",
        "\n",
        "def plot_similarity(labels, features, rotation):\n",
        "    corr = np.inner(features, features)\n",
        "    sns.set(font_scale=1.2)\n",
        "    g = sns.heatmap(\n",
        "      corr,\n",
        "      xticklabels=labels,\n",
        "      yticklabels=labels,\n",
        "      vmin=0,\n",
        "      vmax=1,\n",
        "      cmap=\"YlGnBu\",\n",
        "      annot=True)\n",
        "    g.set_xticklabels(labels, rotation=rotation)\n",
        "    g.set_title(\"Sentencel Similarity\")\n",
        "\n",
        "plot_similarity(messages, encoding_matrix, 90)"
      ],
      "execution_count": 0,
      "outputs": [
        {
          "output_type": "display_data",
          "data": {
            "image/png": "[encoded data removed]",
            "text/plain": [
              "<Figure size 432x288 with 2 Axes>"
            ]
          },
          "metadata": {
            "tags": []
          }
        }
      ]
    },
    {
      "cell_type": "code",
      "metadata": {
        "id": "O6iScihc3LDL",
        "colab_type": "code",
        "colab": {}
      },
      "source": [
        ""
      ],
      "execution_count": 0,
      "outputs": []
    }
  ]
}